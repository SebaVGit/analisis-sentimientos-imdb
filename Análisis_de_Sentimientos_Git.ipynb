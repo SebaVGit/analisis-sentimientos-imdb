{
  "nbformat": 4,
  "nbformat_minor": 0,
  "metadata": {
    "colab": {
      "name": "Análisis de Sentimientos Git",
      "provenance": [],
      "collapsed_sections": [],
      "include_colab_link": true
    },
    "kernelspec": {
      "name": "python3",
      "display_name": "Python 3"
    },
    "accelerator": "GPU"
  },
  "cells": [
    {
      "cell_type": "markdown",
      "metadata": {
        "id": "view-in-github",
        "colab_type": "text"
      },
      "source": [
        "<a href=\"https://colab.research.google.com/github/SebaVGit/analisis-sentimientos-imdb/blob/main/An%C3%A1lisis_de_Sentimientos_Git.ipynb\" target=\"_parent\"><img src=\"https://colab.research.google.com/assets/colab-badge.svg\" alt=\"Open In Colab\"/></a>"
      ]
    },
    {
      "cell_type": "markdown",
      "metadata": {
        "id": "GQERIYfmtA0R"
      },
      "source": [
        "#Análisis de sentimientos\r\n",
        "Pregunta 2 solmne 3 2020 Curso de `Modelos Computacionales de la Física y Astronomía` de la UNAB."
      ]
    },
    {
      "cell_type": "code",
      "metadata": {
        "id": "ulGSKxlE9g1M"
      },
      "source": [
        "# Imports\n",
        "import numpy as np\n",
        "import keras\n",
        "from keras.datasets import imdb\n",
        "import tensorflow as tf\n",
        "from matplotlib import pyplot as plt"
      ],
      "execution_count": null,
      "outputs": []
    },
    {
      "cell_type": "code",
      "metadata": {
        "id": "_PheF7NG9uGT",
        "colab": {
          "base_uri": "https://localhost:8080/"
        },
        "outputId": "e1683651-7522-4d1f-d10f-ac261e63c0dc"
      },
      "source": [
        "# Cargar la data\n",
        "(train_data, train_targets), (test_data, test_targets) = imdb.load_data(num_words=10000)\n",
        "data = np.concatenate((train_data, test_data), axis=0)\n",
        "targets = np.concatenate((train_targets, test_targets), axis=0)"
      ],
      "execution_count": null,
      "outputs": [
        {
          "output_type": "stream",
          "text": [
            "<string>:6: VisibleDeprecationWarning: Creating an ndarray from ragged nested sequences (which is a list-or-tuple of lists-or-tuples-or ndarrays with different lengths or shapes) is deprecated. If you meant to do this, you must specify 'dtype=object' when creating the ndarray\n",
            "/usr/local/lib/python3.6/dist-packages/tensorflow/python/keras/datasets/imdb.py:159: VisibleDeprecationWarning: Creating an ndarray from ragged nested sequences (which is a list-or-tuple of lists-or-tuples-or ndarrays with different lengths or shapes) is deprecated. If you meant to do this, you must specify 'dtype=object' when creating the ndarray\n",
            "  x_train, y_train = np.array(xs[:idx]), np.array(labels[:idx])\n",
            "/usr/local/lib/python3.6/dist-packages/tensorflow/python/keras/datasets/imdb.py:160: VisibleDeprecationWarning: Creating an ndarray from ragged nested sequences (which is a list-or-tuple of lists-or-tuples-or ndarrays with different lengths or shapes) is deprecated. If you meant to do this, you must specify 'dtype=object' when creating the ndarray\n",
            "  x_test, y_test = np.array(xs[idx:]), np.array(labels[idx:])\n"
          ],
          "name": "stderr"
        }
      ]
    },
    {
      "cell_type": "code",
      "metadata": {
        "id": "cgVcVD-89yzl",
        "colab": {
          "base_uri": "https://localhost:8080/"
        },
        "outputId": "d7fbdbf7-d9e6-4327-e0a2-5401707293b2"
      },
      "source": [
        "#Explorando los datos\n",
        "print(\"Categories:\", np.unique(targets))\n",
        "print(\"Number of unique words:\", len(np.unique(np.hstack(data))))\n",
        "length = [len(i) for i in data]\n",
        "print(\"Average Review length:\", np.mean(length))\n",
        "print(\"Standard Deviation:\", round(np.std(length)))"
      ],
      "execution_count": null,
      "outputs": [
        {
          "output_type": "stream",
          "text": [
            "Categories: [0 1]\n",
            "Number of unique words: 9998\n",
            "Average Review length: 234.75892\n",
            "Standard Deviation: 173\n"
          ],
          "name": "stdout"
        }
      ]
    },
    {
      "cell_type": "code",
      "metadata": {
        "id": "ixZpHRlQ943U",
        "colab": {
          "base_uri": "https://localhost:8080/"
        },
        "outputId": "3d713875-c334-438a-ca9b-4d2e1b8b12dc"
      },
      "source": [
        "# Seguimos explorando los datos para saber como se ven\n",
        "print(data[0])\n",
        "print(len(data[0]))\n",
        "#Y decodificado\n",
        "index = imdb.get_word_index()\n",
        "# Si deseas chequear como es el index, descomenta la linea de abajo.\n",
        "#print(index)\n",
        "reverse_index = dict([(value, key) for (key, value) in index.items()])\n",
        "decoded = \" \".join( [reverse_index.get(i - 3, \"#\") for i in data[0]] )\n",
        "print(decoded)"
      ],
      "execution_count": null,
      "outputs": [
        {
          "output_type": "stream",
          "text": [
            "[1, 14, 22, 16, 43, 530, 973, 1622, 1385, 65, 458, 4468, 66, 3941, 4, 173, 36, 256, 5, 25, 100, 43, 838, 112, 50, 670, 2, 9, 35, 480, 284, 5, 150, 4, 172, 112, 167, 2, 336, 385, 39, 4, 172, 4536, 1111, 17, 546, 38, 13, 447, 4, 192, 50, 16, 6, 147, 2025, 19, 14, 22, 4, 1920, 4613, 469, 4, 22, 71, 87, 12, 16, 43, 530, 38, 76, 15, 13, 1247, 4, 22, 17, 515, 17, 12, 16, 626, 18, 2, 5, 62, 386, 12, 8, 316, 8, 106, 5, 4, 2223, 5244, 16, 480, 66, 3785, 33, 4, 130, 12, 16, 38, 619, 5, 25, 124, 51, 36, 135, 48, 25, 1415, 33, 6, 22, 12, 215, 28, 77, 52, 5, 14, 407, 16, 82, 2, 8, 4, 107, 117, 5952, 15, 256, 4, 2, 7, 3766, 5, 723, 36, 71, 43, 530, 476, 26, 400, 317, 46, 7, 4, 2, 1029, 13, 104, 88, 4, 381, 15, 297, 98, 32, 2071, 56, 26, 141, 6, 194, 7486, 18, 4, 226, 22, 21, 134, 476, 26, 480, 5, 144, 30, 5535, 18, 51, 36, 28, 224, 92, 25, 104, 4, 226, 65, 16, 38, 1334, 88, 12, 16, 283, 5, 16, 4472, 113, 103, 32, 15, 16, 5345, 19, 178, 32]\n",
            "218\n",
            "# this film was just brilliant casting location scenery story direction everyone's really suited the part they played and you could just imagine being there robert # is an amazing actor and now the same being director # father came from the same scottish island as myself so i loved the fact there was a real connection with this film the witty remarks throughout the film were great it was just brilliant so much that i bought the film as soon as it was released for # and would recommend it to everyone to watch and the fly fishing was amazing really cried at the end it was so sad and you know what they say if you cry at a film it must have been good and this definitely was also # to the two little boy's that played the # of norman and paul they were just brilliant children are often left out of the # list i think because the stars that play them all grown up are such a big profile for the whole film but these children are amazing and should be praised for what they have done don't you think the whole story was so lovely because it was true and was someone's life after all that was shared with us all\n"
          ],
          "name": "stdout"
        }
      ]
    },
    {
      "cell_type": "code",
      "metadata": {
        "id": "b48w4NLd-Po9"
      },
      "source": [
        "# Para preparar los datos necesitamos que cada review tenga el mismo n\u0013umero de palabras, para ello,\n",
        "# hacemos que todos tengan 10000 palabras y aquellos que tienen menos se llenan con ceros.\n",
        "def vectorize(sequences, dimension = 10000):\n",
        "  results = np.zeros((len(sequences), dimension))\n",
        "  for i, sequence in enumerate(sequences):\n",
        "    results[i, sequence] = 1\n",
        "  return results"
      ],
      "execution_count": null,
      "outputs": []
    },
    {
      "cell_type": "code",
      "metadata": {
        "id": "u7hM6ICJ-U5W"
      },
      "source": [
        "# Dividir datos para train y test\n",
        "# En este caso se divide de manera sencilla sin aleatoreidad (queda propuesto)\n",
        "data2 = vectorize(data)\n",
        "targets = np.array(targets).astype(\"float32\")\n",
        "test_x = data2[:10000]\n",
        "test_y = targets[:10000]\n",
        "train_x = data2[10000:]\n",
        "train_y = targets[10000:]"
      ],
      "execution_count": null,
      "outputs": []
    },
    {
      "cell_type": "code",
      "metadata": {
        "id": "lCtEOrrFBxUB"
      },
      "source": [
        "# Dado que hay dos clases por clasificar se usan 2 unicamente\n",
        "train_y = keras.utils.to_categorical(train_y, 2)\n",
        "test_y = keras.utils.to_categorical(test_y,2)"
      ],
      "execution_count": null,
      "outputs": []
    },
    {
      "cell_type": "code",
      "metadata": {
        "colab": {
          "base_uri": "https://localhost:8080/"
        },
        "id": "rbemdXxtAeyf",
        "outputId": "a846ccc9-1ba4-48b8-dbe1-7e7f7bb7a5ef"
      },
      "source": [
        "# Es importante ver las dimensiones de nuestros arreglos\n",
        "# Por lo que se printean\n",
        "print(train_x.shape)\n",
        "print(train_y.shape)\n",
        "print(test_x.shape)\n",
        "print(test_y.shape)"
      ],
      "execution_count": null,
      "outputs": [
        {
          "output_type": "stream",
          "text": [
            "(40000, 10000)\n",
            "(40000, 2)\n",
            "(10000, 10000)\n",
            "(10000, 2)\n"
          ],
          "name": "stdout"
        }
      ]
    },
    {
      "cell_type": "code",
      "metadata": {
        "id": "zZoG7s25yq2K",
        "colab": {
          "base_uri": "https://localhost:8080/"
        },
        "outputId": "8eb17fb7-3bf6-497e-a023-5100d762463c"
      },
      "source": [
        "# Cantidad de ejemplos (train/test), neuronas de entrada y neuronas de salida\n",
        "\n",
        "M_train = train_x.shape[0]\n",
        "M_test = test_x.shape[0]\n",
        "\n",
        "# N seran las neuronas de entrada que recibirá la red, en este caso la cantidad\n",
        "# o dimensión de cada ejemplo de la data del IMDB\n",
        "# Por otro lado C sera la cantidad de salida, en este caso 2 pues estamos clasificando entre\n",
        "# 2 casos posibles\n",
        "N = train_x.shape[1]\n",
        "C = train_y.shape[1]\n",
        "\n",
        "print(N,C,M_train,M_test)"
      ],
      "execution_count": null,
      "outputs": [
        {
          "output_type": "stream",
          "text": [
            "10000 2 40000 10000\n"
          ],
          "name": "stdout"
        }
      ]
    },
    {
      "cell_type": "code",
      "metadata": {
        "id": "BOaB_dIHyxsG",
        "colab": {
          "base_uri": "https://localhost:8080/"
        },
        "outputId": "d608ca01-f339-4e04-c933-f61667c3518d"
      },
      "source": [
        "# Seteamos los seed para números random\n",
        "\n",
        "np.random.seed(30)\n",
        "tf.random.set_seed(30)\n",
        "\n",
        "\n",
        "# Creamos nuestra red feed-forward (tiene 2 capas escondidas!)\n",
        "\n",
        "h1 = 512 #Dimensión de la capa oculta 1\n",
        "h2 = 256 #Dimensión de la capa oculta 2\n",
        "\n",
        "#Se recomienda el uso de Relu como función de activación\n",
        "\n",
        "red = keras.Sequential()\n",
        "red.add(keras.layers.Dense(h1, input_dim=N, activation='relu'))\n",
        "# Agregamos unas capas de dropout para probar como se comporta la red\n",
        "# Recordemos que el argumento de este proceso representa la probabilidad de \n",
        "# que una neurona se apague.\n",
        "red.add(keras.layers.Dropout(0.2))\n",
        "red.add(keras.layers.Dense(h2, activation='relu'))\n",
        "red.add(keras.layers.Dropout(0.4))\n",
        "red.add(keras.layers.Dense(h2, activation='relu'))\n",
        "red.add(keras.layers.Dropout(0.5))\n",
        "# La última capa hace softmax pues es un clasificador y esto entrega la probabilidad\n",
        "# Mayor ante las clases que se clasificaran\n",
        "red.add(keras.layers.Dense(C, activation='softmax'))\n",
        "\n",
        "# Esto hace que se muestre la red\n",
        "red.summary()\n",
        "\n",
        "# En esta sección se crea o \"compila\" la red en tensorflow, recordemos que Keras es una API de tensorflow\n",
        "# Usamos SGD o Stochastic gradient descent pero queda propuesto probar con el que se desee\n",
        "red.compile(\n",
        "    loss='categorical_crossentropy',\n",
        "    optimizer='sgd',\n",
        "    metrics=['accuracy']\n",
        ")"
      ],
      "execution_count": null,
      "outputs": [
        {
          "output_type": "stream",
          "text": [
            "Model: \"sequential\"\n",
            "_________________________________________________________________\n",
            "Layer (type)                 Output Shape              Param #   \n",
            "=================================================================\n",
            "dense (Dense)                (None, 512)               5120512   \n",
            "_________________________________________________________________\n",
            "dropout (Dropout)            (None, 512)               0         \n",
            "_________________________________________________________________\n",
            "dense_1 (Dense)              (None, 256)               131328    \n",
            "_________________________________________________________________\n",
            "dropout_1 (Dropout)          (None, 256)               0         \n",
            "_________________________________________________________________\n",
            "dense_2 (Dense)              (None, 256)               65792     \n",
            "_________________________________________________________________\n",
            "dropout_2 (Dropout)          (None, 256)               0         \n",
            "_________________________________________________________________\n",
            "dense_3 (Dense)              (None, 2)                 514       \n",
            "=================================================================\n",
            "Total params: 5,318,146\n",
            "Trainable params: 5,318,146\n",
            "Non-trainable params: 0\n",
            "_________________________________________________________________\n"
          ],
          "name": "stdout"
        }
      ]
    },
    {
      "cell_type": "code",
      "metadata": {
        "id": "9JKKzq5Ay-eY",
        "colab": {
          "base_uri": "https://localhost:8080/"
        },
        "outputId": "3ab34288-0174-4acc-a6fd-6f874f2ea428"
      },
      "source": [
        "# Aquí comienza el entrenamiento, se puede ir probando con el número de épocas y batch size (ojo con este pues depende de tu PC en gran parte)\n",
        "# Se le coloca validation_data para que puedas obtener de una el gráfico de la certeza del modelo\n",
        "\n",
        "hist = red.fit(train_x, train_y,\n",
        "        epochs=20,\n",
        "        batch_size=128,\n",
        "        validation_data=(test_x,test_y)\n",
        "       )"
      ],
      "execution_count": null,
      "outputs": [
        {
          "output_type": "stream",
          "text": [
            "Epoch 1/20\n",
            "313/313 [==============================] - 3s 8ms/step - loss: 0.6925 - accuracy: 0.5207 - val_loss: 0.6589 - val_accuracy: 0.7240\n",
            "Epoch 2/20\n",
            "313/313 [==============================] - 2s 6ms/step - loss: 0.6441 - accuracy: 0.6520 - val_loss: 0.5085 - val_accuracy: 0.8004\n",
            "Epoch 3/20\n",
            "313/313 [==============================] - 2s 6ms/step - loss: 0.5078 - accuracy: 0.7694 - val_loss: 0.3846 - val_accuracy: 0.8385\n",
            "Epoch 4/20\n",
            "313/313 [==============================] - 2s 6ms/step - loss: 0.4035 - accuracy: 0.8268 - val_loss: 0.3358 - val_accuracy: 0.8598\n",
            "Epoch 5/20\n",
            "313/313 [==============================] - 2s 7ms/step - loss: 0.3534 - accuracy: 0.8553 - val_loss: 0.3137 - val_accuracy: 0.8676\n",
            "Epoch 6/20\n",
            "313/313 [==============================] - 2s 6ms/step - loss: 0.3232 - accuracy: 0.8698 - val_loss: 0.3028 - val_accuracy: 0.8730\n",
            "Epoch 7/20\n",
            "313/313 [==============================] - 2s 6ms/step - loss: 0.2974 - accuracy: 0.8816 - val_loss: 0.2906 - val_accuracy: 0.8781\n",
            "Epoch 8/20\n",
            "313/313 [==============================] - 2s 6ms/step - loss: 0.2808 - accuracy: 0.8901 - val_loss: 0.2854 - val_accuracy: 0.8802\n",
            "Epoch 9/20\n",
            "313/313 [==============================] - 2s 6ms/step - loss: 0.2572 - accuracy: 0.8991 - val_loss: 0.2815 - val_accuracy: 0.8833\n",
            "Epoch 10/20\n",
            "313/313 [==============================] - 2s 6ms/step - loss: 0.2519 - accuracy: 0.9027 - val_loss: 0.2879 - val_accuracy: 0.8811\n",
            "Epoch 11/20\n",
            "313/313 [==============================] - 2s 6ms/step - loss: 0.2347 - accuracy: 0.9083 - val_loss: 0.2774 - val_accuracy: 0.8873\n",
            "Epoch 12/20\n",
            "313/313 [==============================] - 2s 6ms/step - loss: 0.2276 - accuracy: 0.9133 - val_loss: 0.2782 - val_accuracy: 0.8884\n",
            "Epoch 13/20\n",
            "313/313 [==============================] - 2s 6ms/step - loss: 0.2163 - accuracy: 0.9169 - val_loss: 0.2789 - val_accuracy: 0.8879\n",
            "Epoch 14/20\n",
            "313/313 [==============================] - 2s 6ms/step - loss: 0.2047 - accuracy: 0.9235 - val_loss: 0.2786 - val_accuracy: 0.8885\n",
            "Epoch 15/20\n",
            "313/313 [==============================] - 2s 6ms/step - loss: 0.1914 - accuracy: 0.9283 - val_loss: 0.2814 - val_accuracy: 0.8885\n",
            "Epoch 16/20\n",
            "313/313 [==============================] - 2s 6ms/step - loss: 0.1790 - accuracy: 0.9349 - val_loss: 0.2866 - val_accuracy: 0.8884\n",
            "Epoch 17/20\n",
            "313/313 [==============================] - 2s 6ms/step - loss: 0.1711 - accuracy: 0.9371 - val_loss: 0.2869 - val_accuracy: 0.8897\n",
            "Epoch 18/20\n",
            "313/313 [==============================] - 2s 6ms/step - loss: 0.1579 - accuracy: 0.9414 - val_loss: 0.2919 - val_accuracy: 0.8897\n",
            "Epoch 19/20\n",
            "313/313 [==============================] - 2s 6ms/step - loss: 0.1496 - accuracy: 0.9457 - val_loss: 0.3063 - val_accuracy: 0.8846\n",
            "Epoch 20/20\n",
            "313/313 [==============================] - 2s 6ms/step - loss: 0.1377 - accuracy: 0.9508 - val_loss: 0.3257 - val_accuracy: 0.8825\n"
          ],
          "name": "stdout"
        }
      ]
    },
    {
      "cell_type": "code",
      "metadata": {
        "id": "VuHzRUkNzgKm",
        "colab": {
          "base_uri": "https://localhost:8080/",
          "height": 577
        },
        "outputId": "54c6b7fc-7a93-4589-bf4b-bd35fedc5b5f"
      },
      "source": [
        "# Mostramos la pérdida y el acierto por cada época\n",
        "# Como nota la loss es la función de pérdida de la red\n",
        "# val_= significa validation que es lo que están pidiendo en la tarea\n",
        "# accuracy o exactitud es una métrica muy usada para saber que tan bien le esta funcionando\n",
        "\n",
        "\n",
        "plt.plot(hist.history['loss'],label='loss')\n",
        "plt.plot(hist.history['val_loss'], label='val_loss')\n",
        "plt.title('Pérdida')\n",
        "plt.xlabel('Época')\n",
        "plt.legend()\n",
        "plt.show()\n",
        "\n",
        "plt.plot(hist.history['accuracy'],label='accuracy')\n",
        "plt.plot(hist.history['val_accuracy'],label='val_accuracy')\n",
        "plt.title('% Acierto')\n",
        "plt.xlabel('Época')\n",
        "plt.legend()\n",
        "plt.show()"
      ],
      "execution_count": null,
      "outputs": [
        {
          "output_type": "display_data",
          "data": {
            "image/png": "[encoded data removed]",
            "text/plain": [
              "<Figure size 432x288 with 1 Axes>"
            ]
          },
          "metadata": {
            "tags": [],
            "needs_background": "light"
          }
        },
        {
          "output_type": "display_data",
          "data": {
            "image/png": "[encoded data removed]",
            "text/plain": [
              "<Figure size 432x288 with 1 Axes>"
            ]
          },
          "metadata": {
            "tags": [],
            "needs_background": "light"
          }
        }
      ]
    },
    {
      "cell_type": "markdown",
      "metadata": {
        "id": "PKM1LZ9TGVDL"
      },
      "source": [
        "### Comentarios\r\n",
        "* Se puede notar que el accuracy de la validación comienza a alejarse del de entrenamiento alrededor de la época 15.\r\n",
        "* Se podría probar con alguna otra configuración de la red y ver que ocurre con más épocas.\r\n",
        "* Ahora en caso de que se vea que las curvas de loss y accuracy se distancian mucho, nos encontraremos en un espacio de overfitting por el cual tenemos que repensar la red usada.\r\n"
      ]
    },
    {
      "cell_type": "code",
      "metadata": {
        "colab": {
          "base_uri": "https://localhost:8080/"
        },
        "id": "N4zSfD7JJ7vv",
        "outputId": "44ec0ddf-9189-4c3c-b142-71238405cb23"
      },
      "source": [
        "# Esta es simplemente una comparativa para testear que este andando correctamente\n",
        "\n",
        "i=0 # Este indice se cambia para probar con distintas configuraciones (tiene que ser del 0 al 9999)\n",
        "\n",
        "pred = red.predict(test_x[i].reshape(1,10000))\n",
        "lpred = np.argmax(pred)\n",
        "ground_truth = targets[i]\n",
        "print('Sentimiento predicho: {}, Sentimiento correcto: {}'.format(int(lpred),int(ground_truth)))"
      ],
      "execution_count": null,
      "outputs": [
        {
          "output_type": "stream",
          "text": [
            "Sentimiento predicho: 1, Sentimiento correcto: 1\n"
          ],
          "name": "stdout"
        }
      ]
    }
  ]
}