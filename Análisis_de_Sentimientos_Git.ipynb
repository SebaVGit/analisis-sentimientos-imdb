{
  "nbformat": 4,
  "nbformat_minor": 0,
  "metadata": {
    "colab": {
      "name": "Análisis de Sentimientos Git",
      "provenance": [],
      "collapsed_sections": [
        "PKM1LZ9TGVDL"
      ],
      "include_colab_link": true
    },
    "kernelspec": {
      "name": "python3",
      "display_name": "Python 3"
    },
    "accelerator": "GPU"
  },
  "cells": [
    {
      "cell_type": "markdown",
      "metadata": {
        "id": "view-in-github",
        "colab_type": "text"
      },
      "source": [
        "<a href=\"https://colab.research.google.com/github/SebaVGit/analisis-sentimientos-imdb/blob/main/An%C3%A1lisis_de_Sentimientos_Git.ipynb\" target=\"_parent\"><img src=\"https://colab.research.google.com/assets/colab-badge.svg\" alt=\"Open In Colab\"/></a>"
      ]
    },
    {
      "cell_type": "markdown",
      "metadata": {
        "id": "GQERIYfmtA0R"
      },
      "source": [
        "#Análisis de sentimientos\r\n",
        "Pregunta 2 solemne 3 2020 Curso de `Modelos Computacionales de la Física y Astronomía` de la UNAB."
      ]
    },
    {
      "cell_type": "code",
      "metadata": {
        "id": "ulGSKxlE9g1M"
      },
      "source": [
        "# Imports\n",
        "import numpy as np\n",
        "import keras\n",
        "from keras.datasets import imdb\n",
        "import tensorflow as tf\n",
        "from matplotlib import pyplot as plt"
      ],
      "execution_count": 1,
      "outputs": []
    },
    {
      "cell_type": "code",
      "metadata": {
        "id": "_PheF7NG9uGT",
        "colab": {
          "base_uri": "https://localhost:8080/"
        },
        "outputId": "a4167839-5e7e-4735-dc19-c6dbe523a121"
      },
      "source": [
        "# Cargar la data\n",
        "(train_data, train_targets), (test_data, test_targets) = imdb.load_data(num_words=10000)\n",
        "data = np.concatenate((train_data, test_data), axis=0)\n",
        "targets = np.concatenate((train_targets, test_targets), axis=0)"
      ],
      "execution_count": 2,
      "outputs": [
        {
          "output_type": "stream",
          "text": [
            "<string>:6: VisibleDeprecationWarning: Creating an ndarray from ragged nested sequences (which is a list-or-tuple of lists-or-tuples-or ndarrays with different lengths or shapes) is deprecated. If you meant to do this, you must specify 'dtype=object' when creating the ndarray\n",
            "/usr/local/lib/python3.6/dist-packages/tensorflow/python/keras/datasets/imdb.py:159: VisibleDeprecationWarning: Creating an ndarray from ragged nested sequences (which is a list-or-tuple of lists-or-tuples-or ndarrays with different lengths or shapes) is deprecated. If you meant to do this, you must specify 'dtype=object' when creating the ndarray\n",
            "  x_train, y_train = np.array(xs[:idx]), np.array(labels[:idx])\n",
            "/usr/local/lib/python3.6/dist-packages/tensorflow/python/keras/datasets/imdb.py:160: VisibleDeprecationWarning: Creating an ndarray from ragged nested sequences (which is a list-or-tuple of lists-or-tuples-or ndarrays with different lengths or shapes) is deprecated. If you meant to do this, you must specify 'dtype=object' when creating the ndarray\n",
            "  x_test, y_test = np.array(xs[idx:]), np.array(labels[idx:])\n"
          ],
          "name": "stderr"
        }
      ]
    },
    {
      "cell_type": "code",
      "metadata": {
        "id": "cgVcVD-89yzl",
        "colab": {
          "base_uri": "https://localhost:8080/"
        },
        "outputId": "e7966c88-67e4-4dcd-d9b8-36d9048d9ca7"
      },
      "source": [
        "#Explorando los datos\n",
        "print(\"Categories:\", np.unique(targets))\n",
        "print(\"Number of unique words:\", len(np.unique(np.hstack(data))))\n",
        "length = [len(i) for i in data]\n",
        "print(\"Average Review length:\", np.mean(length))\n",
        "print(\"Standard Deviation:\", round(np.std(length)))"
      ],
      "execution_count": 3,
      "outputs": [
        {
          "output_type": "stream",
          "text": [
            "Categories: [0 1]\n",
            "Number of unique words: 9998\n",
            "Average Review length: 234.75892\n",
            "Standard Deviation: 173\n"
          ],
          "name": "stdout"
        }
      ]
    },
    {
      "cell_type": "code",
      "metadata": {
        "id": "ixZpHRlQ943U",
        "colab": {
          "base_uri": "https://localhost:8080/"
        },
        "outputId": "c9f0bf6a-1bac-43fa-910e-d8b040db755e"
      },
      "source": [
        "# Seguimos explorando los datos para saber como se ven\n",
        "print(data[0][:10])\n",
        "print(len(data[0]))\n",
        "#Y decodificado\n",
        "index = imdb.get_word_index()\n",
        "# Si deseas chequear como es el index, descomenta la linea de abajo.\n",
        "#print(index)\n",
        "reverse_index = dict([(value, key) for (key, value) in index.items()])\n",
        "decoded = \" \".join( [reverse_index.get(i - 3, \"#\") for i in data[0]])\n",
        "# The first 20 characters of decoded\n",
        "print(decoded[:20])"
      ],
      "execution_count": 4,
      "outputs": [
        {
          "output_type": "stream",
          "text": [
            "[1, 14, 22, 16, 43, 530, 973, 1622, 1385, 65]\n",
            "218\n",
            "# this film was just\n"
          ],
          "name": "stdout"
        }
      ]
    },
    {
      "cell_type": "code",
      "metadata": {
        "id": "b48w4NLd-Po9"
      },
      "source": [
        "# Para preparar los datos necesitamos que cada review tenga el mismo n\u0013umero de palabras, para ello,\n",
        "# hacemos que todos tengan 10000 palabras y aquellos que tienen menos se llenan con ceros.\n",
        "def vectorize(sequences, dimension = 10000):\n",
        "  results = np.zeros((len(sequences), dimension))\n",
        "  for i, sequence in enumerate(sequences):\n",
        "    results[i, sequence] = 1\n",
        "  return results"
      ],
      "execution_count": 5,
      "outputs": []
    },
    {
      "cell_type": "code",
      "metadata": {
        "id": "u7hM6ICJ-U5W"
      },
      "source": [
        "# Dividir datos para train y test\n",
        "# En este caso se divide de manera sencilla sin aleatoreidad (queda propuesto)\n",
        "data2 = vectorize(data)\n",
        "targets = np.array(targets).astype(\"float32\")\n",
        "test_x = data2[:10000]\n",
        "test_y = targets[:10000]\n",
        "train_x = data2[10000:]\n",
        "train_y = targets[10000:]"
      ],
      "execution_count": 6,
      "outputs": []
    },
    {
      "cell_type": "code",
      "metadata": {
        "id": "lCtEOrrFBxUB"
      },
      "source": [
        "# Dado que hay dos clases por clasificar se usan 2 unicamente\n",
        "train_y = keras.utils.to_categorical(train_y, 2)\n",
        "test_y = keras.utils.to_categorical(test_y,2)"
      ],
      "execution_count": 7,
      "outputs": []
    },
    {
      "cell_type": "code",
      "metadata": {
        "colab": {
          "base_uri": "https://localhost:8080/"
        },
        "id": "rbemdXxtAeyf",
        "outputId": "f5e58500-6150-40e1-a969-23a750aef0e1"
      },
      "source": [
        "# Es importante ver las dimensiones de nuestros arreglos\n",
        "# Por lo que se printean\n",
        "print(train_x.shape)\n",
        "print(train_y.shape)\n",
        "print(test_x.shape)\n",
        "print(test_y.shape)"
      ],
      "execution_count": 8,
      "outputs": [
        {
          "output_type": "stream",
          "text": [
            "(40000, 10000)\n",
            "(40000, 2)\n",
            "(10000, 10000)\n",
            "(10000, 2)\n"
          ],
          "name": "stdout"
        }
      ]
    },
    {
      "cell_type": "code",
      "metadata": {
        "id": "zZoG7s25yq2K",
        "colab": {
          "base_uri": "https://localhost:8080/"
        },
        "outputId": "7d9a5e4b-c0dc-4995-ea7c-cd2be9910290"
      },
      "source": [
        "# Cantidad de ejemplos (train/test), neuronas de entrada y neuronas de salida\n",
        "\n",
        "M_train = train_x.shape[0]\n",
        "M_test = test_x.shape[0]\n",
        "\n",
        "# N seran las neuronas de entrada que recibirá la red, en este caso la cantidad\n",
        "# o dimensión de cada ejemplo de la data del IMDB\n",
        "# Por otro lado C sera la cantidad de salida, en este caso 2 pues estamos clasificando entre\n",
        "# 2 casos posibles\n",
        "N = train_x.shape[1]\n",
        "C = train_y.shape[1]\n",
        "\n",
        "print(N,C,M_train,M_test)"
      ],
      "execution_count": 9,
      "outputs": [
        {
          "output_type": "stream",
          "text": [
            "10000 2 40000 10000\n"
          ],
          "name": "stdout"
        }
      ]
    },
    {
      "cell_type": "code",
      "metadata": {
        "id": "BOaB_dIHyxsG",
        "colab": {
          "base_uri": "https://localhost:8080/"
        },
        "outputId": "6d1097bf-3dab-4282-9126-6829b28e1360"
      },
      "source": [
        "# Seteamos los seed para números random\n",
        "\n",
        "np.random.seed(30)\n",
        "tf.random.set_seed(30)\n",
        "\n",
        "\n",
        "# Creamos nuestra red feed-forward (tiene 2 capas escondidas!)\n",
        "\n",
        "h1 = 512 #Dimensión de la capa oculta 1\n",
        "h2 = 256 #Dimensión de la capa oculta 2\n",
        "\n",
        "#Se recomienda el uso de Relu como función de activación\n",
        "\n",
        "red = keras.Sequential()\n",
        "red.add(keras.layers.Dense(h1, input_dim=N, activation='relu'))\n",
        "# Agregamos unas capas de dropout para probar como se comporta la red\n",
        "# Recordemos que el argumento de este proceso representa la probabilidad de \n",
        "# que una neurona se apague.\n",
        "red.add(keras.layers.Dropout(0.2))\n",
        "red.add(keras.layers.Dense(h2, activation='relu'))\n",
        "red.add(keras.layers.Dropout(0.4))\n",
        "red.add(keras.layers.Dense(h2, activation='relu'))\n",
        "red.add(keras.layers.Dropout(0.5))\n",
        "# La última capa hace softmax pues es un clasificador y esto entrega la probabilidad\n",
        "# Mayor ante las clases que se clasificaran\n",
        "red.add(keras.layers.Dense(C, activation='softmax'))\n",
        "\n",
        "# Esto hace que se muestre la red\n",
        "red.summary()\n",
        "\n",
        "# En esta sección se crea o \"compila\" la red en tensorflow, recordemos que Keras es una API de tensorflow\n",
        "# Usamos SGD o Stochastic gradient descent pero queda propuesto probar con el que se desee\n",
        "red.compile(\n",
        "    loss='categorical_crossentropy',\n",
        "    optimizer='sgd',\n",
        "    metrics=['accuracy']\n",
        ")"
      ],
      "execution_count": 10,
      "outputs": [
        {
          "output_type": "stream",
          "text": [
            "Model: \"sequential\"\n",
            "_________________________________________________________________\n",
            "Layer (type)                 Output Shape              Param #   \n",
            "=================================================================\n",
            "dense (Dense)                (None, 512)               5120512   \n",
            "_________________________________________________________________\n",
            "dropout (Dropout)            (None, 512)               0         \n",
            "_________________________________________________________________\n",
            "dense_1 (Dense)              (None, 256)               131328    \n",
            "_________________________________________________________________\n",
            "dropout_1 (Dropout)          (None, 256)               0         \n",
            "_________________________________________________________________\n",
            "dense_2 (Dense)              (None, 256)               65792     \n",
            "_________________________________________________________________\n",
            "dropout_2 (Dropout)          (None, 256)               0         \n",
            "_________________________________________________________________\n",
            "dense_3 (Dense)              (None, 2)                 514       \n",
            "=================================================================\n",
            "Total params: 5,318,146\n",
            "Trainable params: 5,318,146\n",
            "Non-trainable params: 0\n",
            "_________________________________________________________________\n"
          ],
          "name": "stdout"
        }
      ]
    },
    {
      "cell_type": "code",
      "metadata": {
        "id": "9JKKzq5Ay-eY",
        "colab": {
          "base_uri": "https://localhost:8080/"
        },
        "outputId": "62c036f5-7d01-4c72-9500-cc53add5552c"
      },
      "source": [
        "# Aquí comienza el entrenamiento, se puede ir probando con el número de épocas y batch size (ojo con este pues depende de tu PC en gran parte)\n",
        "# Se le coloca validation_data para que puedas obtener de una el gráfico de la certeza del modelo\n",
        "\n",
        "hist = red.fit(train_x, train_y,\n",
        "        epochs=20,\n",
        "        batch_size=128,\n",
        "        validation_data=(test_x,test_y)\n",
        "       )"
      ],
      "execution_count": 11,
      "outputs": [
        {
          "output_type": "stream",
          "text": [
            "Epoch 1/20\n",
            "313/313 [==============================] - 3s 7ms/step - loss: 0.6925 - accuracy: 0.5207 - val_loss: 0.6589 - val_accuracy: 0.7240\n",
            "Epoch 2/20\n",
            "313/313 [==============================] - 2s 6ms/step - loss: 0.6441 - accuracy: 0.6520 - val_loss: 0.5084 - val_accuracy: 0.8002\n",
            "Epoch 3/20\n",
            "313/313 [==============================] - 2s 6ms/step - loss: 0.5078 - accuracy: 0.7693 - val_loss: 0.3847 - val_accuracy: 0.8384\n",
            "Epoch 4/20\n",
            "313/313 [==============================] - 2s 6ms/step - loss: 0.4035 - accuracy: 0.8266 - val_loss: 0.3358 - val_accuracy: 0.8594\n",
            "Epoch 5/20\n",
            "313/313 [==============================] - 2s 6ms/step - loss: 0.3533 - accuracy: 0.8555 - val_loss: 0.3139 - val_accuracy: 0.8673\n",
            "Epoch 6/20\n",
            "313/313 [==============================] - 2s 6ms/step - loss: 0.3232 - accuracy: 0.8696 - val_loss: 0.3026 - val_accuracy: 0.8730\n",
            "Epoch 7/20\n",
            "313/313 [==============================] - 2s 6ms/step - loss: 0.2973 - accuracy: 0.8824 - val_loss: 0.2906 - val_accuracy: 0.8780\n",
            "Epoch 8/20\n",
            "313/313 [==============================] - 2s 6ms/step - loss: 0.2808 - accuracy: 0.8899 - val_loss: 0.2853 - val_accuracy: 0.8804\n",
            "Epoch 9/20\n",
            "313/313 [==============================] - 2s 6ms/step - loss: 0.2571 - accuracy: 0.8988 - val_loss: 0.2815 - val_accuracy: 0.8827\n",
            "Epoch 10/20\n",
            "313/313 [==============================] - 2s 6ms/step - loss: 0.2518 - accuracy: 0.9031 - val_loss: 0.2884 - val_accuracy: 0.8804\n",
            "Epoch 11/20\n",
            "313/313 [==============================] - 2s 6ms/step - loss: 0.2347 - accuracy: 0.9084 - val_loss: 0.2774 - val_accuracy: 0.8876\n",
            "Epoch 12/20\n",
            "313/313 [==============================] - 2s 6ms/step - loss: 0.2276 - accuracy: 0.9135 - val_loss: 0.2782 - val_accuracy: 0.8886\n",
            "Epoch 13/20\n",
            "313/313 [==============================] - 2s 6ms/step - loss: 0.2163 - accuracy: 0.9171 - val_loss: 0.2788 - val_accuracy: 0.8874\n",
            "Epoch 14/20\n",
            "313/313 [==============================] - 2s 6ms/step - loss: 0.2047 - accuracy: 0.9237 - val_loss: 0.2786 - val_accuracy: 0.8880\n",
            "Epoch 15/20\n",
            "313/313 [==============================] - 2s 6ms/step - loss: 0.1915 - accuracy: 0.9283 - val_loss: 0.2818 - val_accuracy: 0.8876\n",
            "Epoch 16/20\n",
            "313/313 [==============================] - 2s 6ms/step - loss: 0.1790 - accuracy: 0.9351 - val_loss: 0.2867 - val_accuracy: 0.8879\n",
            "Epoch 17/20\n",
            "313/313 [==============================] - 2s 6ms/step - loss: 0.1711 - accuracy: 0.9376 - val_loss: 0.2869 - val_accuracy: 0.8895\n",
            "Epoch 18/20\n",
            "313/313 [==============================] - 2s 6ms/step - loss: 0.1579 - accuracy: 0.9416 - val_loss: 0.2917 - val_accuracy: 0.8896\n",
            "Epoch 19/20\n",
            "313/313 [==============================] - 2s 6ms/step - loss: 0.1497 - accuracy: 0.9451 - val_loss: 0.3073 - val_accuracy: 0.8845\n",
            "Epoch 20/20\n",
            "313/313 [==============================] - 2s 6ms/step - loss: 0.1379 - accuracy: 0.9512 - val_loss: 0.3265 - val_accuracy: 0.8822\n"
          ],
          "name": "stdout"
        }
      ]
    },
    {
      "cell_type": "code",
      "metadata": {
        "id": "VuHzRUkNzgKm",
        "colab": {
          "base_uri": "https://localhost:8080/",
          "height": 577
        },
        "outputId": "7513ad19-b5f3-4d5a-91ed-ec3a9214b424"
      },
      "source": [
        "# Mostramos la pérdida y el acierto por cada época\n",
        "# Como nota la loss es la función de pérdida de la red\n",
        "# val_= significa validation que es lo que están pidiendo en la tarea\n",
        "# accuracy o exactitud es una métrica muy usada para saber que tan bien le esta funcionando\n",
        "\n",
        "\n",
        "plt.plot(hist.history['loss'],label='loss')\n",
        "plt.plot(hist.history['val_loss'], label='val_loss')\n",
        "plt.title('Pérdida')\n",
        "plt.xlabel('Época')\n",
        "plt.legend()\n",
        "plt.show()\n",
        "\n",
        "plt.plot(hist.history['accuracy'],label='accuracy')\n",
        "plt.plot(hist.history['val_accuracy'],label='val_accuracy')\n",
        "plt.title('% Acierto')\n",
        "plt.xlabel('Época')\n",
        "plt.legend()\n",
        "plt.show()"
      ],
      "execution_count": 12,
      "outputs": [
        {
          "output_type": "display_data",
          "data": {
            "image/png": "[encoded data removed]",
            "text/plain": [
              "<Figure size 432x288 with 1 Axes>"
            ]
          },
          "metadata": {
            "tags": [],
            "needs_background": "light"
          }
        },
        {
          "output_type": "display_data",
          "data": {
            "image/png": "[encoded data removed]",
            "text/plain": [
              "<Figure size 432x288 with 1 Axes>"
            ]
          },
          "metadata": {
            "tags": [],
            "needs_background": "light"
          }
        }
      ]
    },
    {
      "cell_type": "markdown",
      "metadata": {
        "id": "PKM1LZ9TGVDL"
      },
      "source": [
        "### Comentarios\r\n",
        "* Se puede notar que el accuracy de la validación comienza a alejarse del de entrenamiento alrededor de la época 15.\r\n",
        "* Se podría probar con alguna otra configuración de la red y ver que ocurre con más épocas.\r\n",
        "* Ahora en caso de que se vea que las curvas de loss y accuracy se distancian mucho, nos encontraremos en un espacio de overfitting por el cual tenemos que repensar la red usada.\r\n"
      ]
    },
    {
      "cell_type": "code",
      "metadata": {
        "colab": {
          "base_uri": "https://localhost:8080/"
        },
        "id": "N4zSfD7JJ7vv",
        "outputId": "e5bfca34-8b8e-462f-bc0d-b2b658cf5200"
      },
      "source": [
        "# Esta es simplemente una comparativa para testear que este andando correctamente\n",
        "\n",
        "i=0 # Este indice se cambia para probar con distintas configuraciones (tiene que ser del 0 al 9999)\n",
        "\n",
        "pred = red.predict(test_x[i].reshape(1,10000))\n",
        "lpred = np.argmax(pred)\n",
        "ground_truth = targets[i]\n",
        "print('Sentimiento predicho: {}, Sentimiento correcto: {}'.format(int(lpred),int(ground_truth)))"
      ],
      "execution_count": 13,
      "outputs": [
        {
          "output_type": "stream",
          "text": [
            "Sentimiento predicho: 1, Sentimiento correcto: 1\n"
          ],
          "name": "stdout"
        }
      ]
    }
  ]
}